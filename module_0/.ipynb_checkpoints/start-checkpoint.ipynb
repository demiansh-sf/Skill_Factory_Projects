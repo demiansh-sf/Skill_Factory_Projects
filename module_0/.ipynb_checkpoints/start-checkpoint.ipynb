{
 "cells": [
  {
   "cell_type": "code",
   "execution_count": 9,
   "metadata": {},
   "outputs": [],
   "source": [
    "from math import ceil\n",
    "import numpy as np\n",
    "\n",
    "def game_core_v1(number,max_number = 100):\n",
    "    '''Алгоритм деления пополам оставшегося отрезка'''\n",
    "    #начнем угадывать с середины, заодно укажем half - половина оставшегося отрезка\n",
    "    predict= half= ceil(max_number/2)  \n",
    "    \n",
    "    count = 0\n",
    "    while True:\n",
    "        count+=1\n",
    "        if number == predict: \n",
    "            #Угадали!!! Супер! Возвращаем количество попыток\n",
    "            return(count) \n",
    "            break\n",
    "        else:\n",
    "            #predict = число, находящиеся посередине между невозможными результатами\n",
    "            half = ceil(half/2)\n",
    "            if number>predict:\n",
    "                predict += half\n",
    "            else: \n",
    "                predict -= half\n",
    "#end game_core\n",
    "        \n",
    "def score_game(game_core):\n",
    "    '''Запускаем игру 1000 раз, чтобы узнать, как быстро игра угадывает число'''\n",
    "    count_ls = []\n",
    "    np.random.seed()  # фиксируем RANDOM SEED, чтобы ваш эксперимент был воспроизводим!\n",
    "    random_array = np.random.randint(1,101, size=(10000))\n",
    "    for number in random_array:\n",
    "        count_ls.append(game_core(number,10000))\n",
    "    score = int(np.mean(count_ls))\n",
    "    print(f\"Ваш алгоритм угадывает число в среднем за {score} попыток\")\n",
    "    return(score)\n",
    "    \n",
    "#end score_game"
   ]
  },
  {
   "cell_type": "code",
   "execution_count": 10,
   "metadata": {},
   "outputs": [
    {
     "name": "stdout",
     "output_type": "stream",
     "text": [
      "Ваш алгоритм угадывает число в среднем за 12 попыток\n"
     ]
    },
    {
     "data": {
      "text/plain": [
       "12"
      ]
     },
     "execution_count": 10,
     "metadata": {},
     "output_type": "execute_result"
    }
   ],
   "source": [
    "score_game(game_core_v1)"
   ]
  }
 ],
 "metadata": {
  "kernelspec": {
   "display_name": "Python 3",
   "language": "python",
   "name": "python3"
  },
  "language_info": {
   "codemirror_mode": {
    "name": "ipython",
    "version": 3
   },
   "file_extension": ".py",
   "mimetype": "text/x-python",
   "name": "python",
   "nbconvert_exporter": "python",
   "pygments_lexer": "ipython3",
   "version": "3.8.3"
  }
 },
 "nbformat": 4,
 "nbformat_minor": 4
}
